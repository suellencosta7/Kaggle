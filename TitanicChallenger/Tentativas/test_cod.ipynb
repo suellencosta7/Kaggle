{
 "cells": [
  {
   "cell_type": "markdown",
   "metadata": {},
   "source": []
  },
  {
   "cell_type": "code",
   "execution_count": null,
   "metadata": {},
   "outputs": [],
   "source": [
    "# TENTATIVA EM IMPOTAR A LISTA DE SOBREVIVENTES E COMPARAR COM A LISTA ATUAL                                                                                                                                                                                                                          \n",
    "\n",
    "\n",
    "import pandas as pd\n",
    "import trains_imp as tra\n",
    "import numpy as np\n",
    "\n",
    "\n",
    "file_test= pd.read_csv('TitanicChallenger/test.csv')\n",
    "\n",
    "\"\"\"Transforma o objeto importado em lista utilizando o for para interagir, compara com a lista de test passageiros em comunum com base no idPassager \"\"\"\n",
    "\n",
    "passId = file_test['PassengerId']\n",
    "survivedId = tra.listPasserId()\n",
    "passList = []      # passId em tipo lista\n",
    " \n",
    "to_list =  []           # sobreviventes de train       \n",
    "comum = []\n",
    "sexo_comum = []\n",
    "new_colum = []\n",
    "\n",
    "for n in passId:\n",
    "    passList.append(n)\n",
    "\n",
    "for n in survivedId:\n",
    "    to_list.append(n)\n",
    "\n",
    "\n",
    "for similar in to_list:\n",
    "    if similar in passId:\n",
    "        comum.append(similar)\n",
    "    else:\n",
    "        pass\n",
    "\n",
    "\n",
    "\n",
    "# datesComum = pd.DataFrame(to_list)\n",
    "\n",
    "\n",
    "\n",
    "# datesComum.to_csv('SobreviventesComum.csv')\n",
    "\n",
    "# se os passageiros de passID estiverem em comum sobreviveu é igual a 1 senão = 2\n",
    "\n",
    "# for num in passList:\n",
    "#     if num in \n",
    "\n",
    "\n",
    "# data_frame = pd.DataFrame({'PassagerId': passList, 'Survived': new_colum})\n",
    "\n",
    "# data_frame.to_csv('new_genderSubmission.csv')\n",
    "\n",
    "\n",
    "display(passList)\n",
    "\n",
    "\n",
    "\n",
    "\n",
    "\n"
   ]
  },
  {
   "cell_type": "code",
   "execution_count": 6,
   "metadata": {},
   "outputs": [
    {
     "data": {
      "text/plain": [
       "162"
      ]
     },
     "metadata": {},
     "output_type": "display_data"
    }
   ],
   "source": [
    "# Descobrindo os sobreviventes em comum sem importação da função que retorna a lista \n",
    "\n",
    "# Descobrir os sobrevivente em comum juntamente com o sexo\n",
    "\n",
    "import pandas as pd\n",
    "\n",
    "file_trains = pd.read_csv('TitanicChallenger/train.csv')\n",
    "file_trains['Survived'] = pd.to_numeric(file_trains['Survived'], errors= 'coerce')\n",
    "survived = file_trains.loc[file_trains['Survived'] == 1]\n",
    "num_survived = survived.loc[survived['Survived'] == 1,['PassengerId','Survived','Sex']]\n",
    "num_survived.rename(columns = {'PassengerId': 'Id','Survived': 'Sobreviventes', 'Sex': 'Sexo'}, inplace = True)\n",
    "\n",
    "survived_colum = num_survived['Id']\n",
    "\n",
    "file_test= pd.read_csv('TitanicChallenger/test.csv')\n",
    "passId = file_test['PassengerId']\n",
    "\n",
    "survived_comum = [] \n",
    "survived_sexo = []\n",
    "\n",
    "for n in survived_colum:\n",
    "    if n in passId:\n",
    "        survived_comum.append(n)\n",
    "    else:\n",
    "        pass\n",
    "\n",
    "\n",
    "\n",
    "\n",
    "display(len(survived_comum))\n"
   ]
  },
  {
   "cell_type": "code",
   "execution_count": null,
   "metadata": {},
   "outputs": [],
   "source": [
    "r = open('mortos_sexo.csv')\n",
    "r_lines = r.readlines() \n",
    "\n",
    "\n",
    "display(r_lines)\n"
   ]
  },
  {
   "cell_type": "code",
   "execution_count": 26,
   "metadata": {},
   "outputs": [
    {
     "ename": "InvalidIndexError",
     "evalue": "(0      False\n1       True\n2       True\n3       True\n4      False\n       ...  \n886    False\n887     True\n888    False\n889     True\n890    False\nName: Survived, Length: 891, dtype: bool, ['PassengerId'])",
     "output_type": "error",
     "traceback": [
      "\u001b[0;31m---------------------------------------------------------------------------\u001b[0m",
      "\u001b[0;31mTypeError\u001b[0m                                 Traceback (most recent call last)",
      "File \u001b[0;32m~/.local/lib/python3.10/site-packages/pandas/core/indexes/base.py:3653\u001b[0m, in \u001b[0;36mIndex.get_loc\u001b[0;34m(self, key)\u001b[0m\n\u001b[1;32m   3652\u001b[0m \u001b[39mtry\u001b[39;00m:\n\u001b[0;32m-> 3653\u001b[0m     \u001b[39mreturn\u001b[39;00m \u001b[39mself\u001b[39;49m\u001b[39m.\u001b[39;49m_engine\u001b[39m.\u001b[39;49mget_loc(casted_key)\n\u001b[1;32m   3654\u001b[0m \u001b[39mexcept\u001b[39;00m \u001b[39mKeyError\u001b[39;00m \u001b[39mas\u001b[39;00m err:\n",
      "File \u001b[0;32m~/.local/lib/python3.10/site-packages/pandas/_libs/index.pyx:147\u001b[0m, in \u001b[0;36mpandas._libs.index.IndexEngine.get_loc\u001b[0;34m()\u001b[0m\n",
      "File \u001b[0;32m~/.local/lib/python3.10/site-packages/pandas/_libs/index.pyx:153\u001b[0m, in \u001b[0;36mpandas._libs.index.IndexEngine.get_loc\u001b[0;34m()\u001b[0m\n",
      "\u001b[0;31mTypeError\u001b[0m: '(0      False\n1       True\n2       True\n3       True\n4      False\n       ...  \n886    False\n887     True\n888    False\n889     True\n890    False\nName: Survived, Length: 891, dtype: bool, ['PassengerId'])' is an invalid key",
      "\nDuring handling of the above exception, another exception occurred:\n",
      "\u001b[0;31mInvalidIndexError\u001b[0m                         Traceback (most recent call last)",
      "Cell \u001b[0;32mIn[26], line 9\u001b[0m\n\u001b[1;32m      6\u001b[0m test_file \u001b[39m=\u001b[39m pd\u001b[39m.\u001b[39mread_csv(\u001b[39m'\u001b[39m\u001b[39mTitanicChallenger/test.csv\u001b[39m\u001b[39m'\u001b[39m)\n\u001b[1;32m      8\u001b[0m \u001b[39m# sobreviveste de train\u001b[39;00m\n\u001b[0;32m----> 9\u001b[0m train_passId_survived \u001b[39m=\u001b[39m  train_file[train_file[\u001b[39m'\u001b[39;49m\u001b[39mSurvived\u001b[39;49m\u001b[39m'\u001b[39;49m] \u001b[39m==\u001b[39;49m \u001b[39m1\u001b[39;49m,[\u001b[39m'\u001b[39;49m\u001b[39mPassengerId\u001b[39;49m\u001b[39m'\u001b[39;49m]]\n\u001b[1;32m     12\u001b[0m train_passId \u001b[39m=\u001b[39m train_file[\u001b[39m'\u001b[39m\u001b[39mPassengerId\u001b[39m\u001b[39m'\u001b[39m]\n\u001b[1;32m     13\u001b[0m test_passId \u001b[39m=\u001b[39m file_test[\u001b[39m'\u001b[39m\u001b[39mPassengerId\u001b[39m\u001b[39m'\u001b[39m]\n",
      "File \u001b[0;32m~/.local/lib/python3.10/site-packages/pandas/core/frame.py:3761\u001b[0m, in \u001b[0;36mDataFrame.__getitem__\u001b[0;34m(self, key)\u001b[0m\n\u001b[1;32m   3759\u001b[0m \u001b[39mif\u001b[39;00m \u001b[39mself\u001b[39m\u001b[39m.\u001b[39mcolumns\u001b[39m.\u001b[39mnlevels \u001b[39m>\u001b[39m \u001b[39m1\u001b[39m:\n\u001b[1;32m   3760\u001b[0m     \u001b[39mreturn\u001b[39;00m \u001b[39mself\u001b[39m\u001b[39m.\u001b[39m_getitem_multilevel(key)\n\u001b[0;32m-> 3761\u001b[0m indexer \u001b[39m=\u001b[39m \u001b[39mself\u001b[39;49m\u001b[39m.\u001b[39;49mcolumns\u001b[39m.\u001b[39;49mget_loc(key)\n\u001b[1;32m   3762\u001b[0m \u001b[39mif\u001b[39;00m is_integer(indexer):\n\u001b[1;32m   3763\u001b[0m     indexer \u001b[39m=\u001b[39m [indexer]\n",
      "File \u001b[0;32m~/.local/lib/python3.10/site-packages/pandas/core/indexes/base.py:3660\u001b[0m, in \u001b[0;36mIndex.get_loc\u001b[0;34m(self, key)\u001b[0m\n\u001b[1;32m   3655\u001b[0m     \u001b[39mraise\u001b[39;00m \u001b[39mKeyError\u001b[39;00m(key) \u001b[39mfrom\u001b[39;00m \u001b[39merr\u001b[39;00m\n\u001b[1;32m   3656\u001b[0m \u001b[39mexcept\u001b[39;00m \u001b[39mTypeError\u001b[39;00m:\n\u001b[1;32m   3657\u001b[0m     \u001b[39m# If we have a listlike key, _check_indexing_error will raise\u001b[39;00m\n\u001b[1;32m   3658\u001b[0m     \u001b[39m#  InvalidIndexError. Otherwise we fall through and re-raise\u001b[39;00m\n\u001b[1;32m   3659\u001b[0m     \u001b[39m#  the TypeError.\u001b[39;00m\n\u001b[0;32m-> 3660\u001b[0m     \u001b[39mself\u001b[39;49m\u001b[39m.\u001b[39;49m_check_indexing_error(key)\n\u001b[1;32m   3661\u001b[0m     \u001b[39mraise\u001b[39;00m\n",
      "File \u001b[0;32m~/.local/lib/python3.10/site-packages/pandas/core/indexes/base.py:5737\u001b[0m, in \u001b[0;36mIndex._check_indexing_error\u001b[0;34m(self, key)\u001b[0m\n\u001b[1;32m   5733\u001b[0m \u001b[39mdef\u001b[39;00m \u001b[39m_check_indexing_error\u001b[39m(\u001b[39mself\u001b[39m, key):\n\u001b[1;32m   5734\u001b[0m     \u001b[39mif\u001b[39;00m \u001b[39mnot\u001b[39;00m is_scalar(key):\n\u001b[1;32m   5735\u001b[0m         \u001b[39m# if key is not a scalar, directly raise an error (the code below\u001b[39;00m\n\u001b[1;32m   5736\u001b[0m         \u001b[39m# would convert to numpy arrays and raise later any way) - GH29926\u001b[39;00m\n\u001b[0;32m-> 5737\u001b[0m         \u001b[39mraise\u001b[39;00m InvalidIndexError(key)\n",
      "\u001b[0;31mInvalidIndexError\u001b[0m: (0      False\n1       True\n2       True\n3       True\n4      False\n       ...  \n886    False\n887     True\n888    False\n889     True\n890    False\nName: Survived, Length: 891, dtype: bool, ['PassengerId'])"
     ]
    }
   ],
   "source": [
    "# Correção cod sç 1\n",
    "\n",
    "import pandas as pd\n",
    "\n",
    "train_file = pd.read_csv('TitanicChallenger/train.csv')\n",
    "test_file = pd.read_csv('TitanicChallenger/test.csv')\n",
    "\n",
    "# sobreviveste de train\n",
    "train_passId_survived =  train_file[train_file['Survived'] == 1,['PassengerId']]\n",
    "\n",
    "\n",
    "train_passId = train_file['PassengerId']\n",
    "test_passId = file_test['PassengerId']\n",
    "\n",
    "train_passId_list =  [n for n in train_passId]\n",
    "test_passId_list = [n for n in test_passId]\n",
    "\n",
    "\n",
    "\n",
    "\n",
    "\n",
    "# print(f'Largura de train {len(train_passId)} e {len(train_passId_list)}')\n",
    "# print(f'Largura de test {len(test_passId)} e {len(test_passId_list)}')\n",
    "display(train_passId_survived)\n"
   ]
  }
 ],
 "metadata": {
  "kernelspec": {
   "display_name": "Python 3",
   "language": "python",
   "name": "python3"
  },
  "language_info": {
   "codemirror_mode": {
    "name": "ipython",
    "version": 3
   },
   "file_extension": ".py",
   "mimetype": "text/x-python",
   "name": "python",
   "nbconvert_exporter": "python",
   "pygments_lexer": "ipython3",
   "version": "3.10.6"
  },
  "orig_nbformat": 4
 },
 "nbformat": 4,
 "nbformat_minor": 2
}
